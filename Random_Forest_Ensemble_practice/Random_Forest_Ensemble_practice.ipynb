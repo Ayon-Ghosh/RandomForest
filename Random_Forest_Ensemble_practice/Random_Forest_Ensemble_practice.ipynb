{
 "cells": [
  {
   "cell_type": "markdown",
   "metadata": {},
   "source": [
    "# Bagging and Pasting with Decision Tree, KNN with Hyperparameter tuning\n",
    "Breast Cancer Dataset"
   ]
  },
  {
   "cell_type": "code",
   "execution_count": null,
   "metadata": {},
   "outputs": [],
   "source": [
    "import pandas as pd\n",
    "import numpy as np\n",
    "from sklearn.datasets import load_breast_cancer\n",
    "dataset = load_breast_cancer()\n",
    "X = dataset.data\n",
    "y = dataset.target"
   ]
  },
  {
   "cell_type": "code",
   "execution_count": 25,
   "metadata": {},
   "outputs": [
    {
     "data": {
      "text/plain": [
       "['DESCR', 'data', 'feature_names', 'filename', 'target', 'target_names']"
      ]
     },
     "execution_count": 25,
     "metadata": {},
     "output_type": "execute_result"
    }
   ],
   "source": [
    "dir(dataset)"
   ]
  },
  {
   "cell_type": "code",
   "execution_count": 26,
   "metadata": {},
   "outputs": [
    {
     "data": {
      "text/plain": [
       "array(['mean radius', 'mean texture', 'mean perimeter', 'mean area',\n",
       "       'mean smoothness', 'mean compactness', 'mean concavity',\n",
       "       'mean concave points', 'mean symmetry', 'mean fractal dimension',\n",
       "       'radius error', 'texture error', 'perimeter error', 'area error',\n",
       "       'smoothness error', 'compactness error', 'concavity error',\n",
       "       'concave points error', 'symmetry error',\n",
       "       'fractal dimension error', 'worst radius', 'worst texture',\n",
       "       'worst perimeter', 'worst area', 'worst smoothness',\n",
       "       'worst compactness', 'worst concavity', 'worst concave points',\n",
       "       'worst symmetry', 'worst fractal dimension'], dtype='<U23')"
      ]
     },
     "execution_count": 26,
     "metadata": {},
     "output_type": "execute_result"
    }
   ],
   "source": [
    "feature_names = dataset.feature_names\n",
    "feature_names"
   ]
  },
  {
   "cell_type": "code",
   "execution_count": 27,
   "metadata": {},
   "outputs": [],
   "source": [
    "X_df = pd.DataFrame(X, columns = feature_names)"
   ]
  },
  {
   "cell_type": "code",
   "execution_count": 28,
   "metadata": {},
   "outputs": [
    {
     "data": {
      "text/html": [
       "<div>\n",
       "<style scoped>\n",
       "    .dataframe tbody tr th:only-of-type {\n",
       "        vertical-align: middle;\n",
       "    }\n",
       "\n",
       "    .dataframe tbody tr th {\n",
       "        vertical-align: top;\n",
       "    }\n",
       "\n",
       "    .dataframe thead th {\n",
       "        text-align: right;\n",
       "    }\n",
       "</style>\n",
       "<table border=\"1\" class=\"dataframe\">\n",
       "  <thead>\n",
       "    <tr style=\"text-align: right;\">\n",
       "      <th></th>\n",
       "      <th>mean radius</th>\n",
       "      <th>mean texture</th>\n",
       "      <th>mean perimeter</th>\n",
       "      <th>mean area</th>\n",
       "      <th>mean smoothness</th>\n",
       "      <th>mean compactness</th>\n",
       "      <th>mean concavity</th>\n",
       "      <th>mean concave points</th>\n",
       "      <th>mean symmetry</th>\n",
       "      <th>mean fractal dimension</th>\n",
       "      <th>...</th>\n",
       "      <th>worst radius</th>\n",
       "      <th>worst texture</th>\n",
       "      <th>worst perimeter</th>\n",
       "      <th>worst area</th>\n",
       "      <th>worst smoothness</th>\n",
       "      <th>worst compactness</th>\n",
       "      <th>worst concavity</th>\n",
       "      <th>worst concave points</th>\n",
       "      <th>worst symmetry</th>\n",
       "      <th>worst fractal dimension</th>\n",
       "    </tr>\n",
       "  </thead>\n",
       "  <tbody>\n",
       "    <tr>\n",
       "      <th>0</th>\n",
       "      <td>17.99</td>\n",
       "      <td>10.38</td>\n",
       "      <td>122.80</td>\n",
       "      <td>1001.0</td>\n",
       "      <td>0.11840</td>\n",
       "      <td>0.27760</td>\n",
       "      <td>0.3001</td>\n",
       "      <td>0.14710</td>\n",
       "      <td>0.2419</td>\n",
       "      <td>0.07871</td>\n",
       "      <td>...</td>\n",
       "      <td>25.38</td>\n",
       "      <td>17.33</td>\n",
       "      <td>184.60</td>\n",
       "      <td>2019.0</td>\n",
       "      <td>0.1622</td>\n",
       "      <td>0.6656</td>\n",
       "      <td>0.7119</td>\n",
       "      <td>0.2654</td>\n",
       "      <td>0.4601</td>\n",
       "      <td>0.11890</td>\n",
       "    </tr>\n",
       "    <tr>\n",
       "      <th>1</th>\n",
       "      <td>20.57</td>\n",
       "      <td>17.77</td>\n",
       "      <td>132.90</td>\n",
       "      <td>1326.0</td>\n",
       "      <td>0.08474</td>\n",
       "      <td>0.07864</td>\n",
       "      <td>0.0869</td>\n",
       "      <td>0.07017</td>\n",
       "      <td>0.1812</td>\n",
       "      <td>0.05667</td>\n",
       "      <td>...</td>\n",
       "      <td>24.99</td>\n",
       "      <td>23.41</td>\n",
       "      <td>158.80</td>\n",
       "      <td>1956.0</td>\n",
       "      <td>0.1238</td>\n",
       "      <td>0.1866</td>\n",
       "      <td>0.2416</td>\n",
       "      <td>0.1860</td>\n",
       "      <td>0.2750</td>\n",
       "      <td>0.08902</td>\n",
       "    </tr>\n",
       "    <tr>\n",
       "      <th>2</th>\n",
       "      <td>19.69</td>\n",
       "      <td>21.25</td>\n",
       "      <td>130.00</td>\n",
       "      <td>1203.0</td>\n",
       "      <td>0.10960</td>\n",
       "      <td>0.15990</td>\n",
       "      <td>0.1974</td>\n",
       "      <td>0.12790</td>\n",
       "      <td>0.2069</td>\n",
       "      <td>0.05999</td>\n",
       "      <td>...</td>\n",
       "      <td>23.57</td>\n",
       "      <td>25.53</td>\n",
       "      <td>152.50</td>\n",
       "      <td>1709.0</td>\n",
       "      <td>0.1444</td>\n",
       "      <td>0.4245</td>\n",
       "      <td>0.4504</td>\n",
       "      <td>0.2430</td>\n",
       "      <td>0.3613</td>\n",
       "      <td>0.08758</td>\n",
       "    </tr>\n",
       "    <tr>\n",
       "      <th>3</th>\n",
       "      <td>11.42</td>\n",
       "      <td>20.38</td>\n",
       "      <td>77.58</td>\n",
       "      <td>386.1</td>\n",
       "      <td>0.14250</td>\n",
       "      <td>0.28390</td>\n",
       "      <td>0.2414</td>\n",
       "      <td>0.10520</td>\n",
       "      <td>0.2597</td>\n",
       "      <td>0.09744</td>\n",
       "      <td>...</td>\n",
       "      <td>14.91</td>\n",
       "      <td>26.50</td>\n",
       "      <td>98.87</td>\n",
       "      <td>567.7</td>\n",
       "      <td>0.2098</td>\n",
       "      <td>0.8663</td>\n",
       "      <td>0.6869</td>\n",
       "      <td>0.2575</td>\n",
       "      <td>0.6638</td>\n",
       "      <td>0.17300</td>\n",
       "    </tr>\n",
       "    <tr>\n",
       "      <th>4</th>\n",
       "      <td>20.29</td>\n",
       "      <td>14.34</td>\n",
       "      <td>135.10</td>\n",
       "      <td>1297.0</td>\n",
       "      <td>0.10030</td>\n",
       "      <td>0.13280</td>\n",
       "      <td>0.1980</td>\n",
       "      <td>0.10430</td>\n",
       "      <td>0.1809</td>\n",
       "      <td>0.05883</td>\n",
       "      <td>...</td>\n",
       "      <td>22.54</td>\n",
       "      <td>16.67</td>\n",
       "      <td>152.20</td>\n",
       "      <td>1575.0</td>\n",
       "      <td>0.1374</td>\n",
       "      <td>0.2050</td>\n",
       "      <td>0.4000</td>\n",
       "      <td>0.1625</td>\n",
       "      <td>0.2364</td>\n",
       "      <td>0.07678</td>\n",
       "    </tr>\n",
       "  </tbody>\n",
       "</table>\n",
       "<p>5 rows × 30 columns</p>\n",
       "</div>"
      ],
      "text/plain": [
       "   mean radius  mean texture  mean perimeter  mean area  mean smoothness  \\\n",
       "0        17.99         10.38          122.80     1001.0          0.11840   \n",
       "1        20.57         17.77          132.90     1326.0          0.08474   \n",
       "2        19.69         21.25          130.00     1203.0          0.10960   \n",
       "3        11.42         20.38           77.58      386.1          0.14250   \n",
       "4        20.29         14.34          135.10     1297.0          0.10030   \n",
       "\n",
       "   mean compactness  mean concavity  mean concave points  mean symmetry  \\\n",
       "0           0.27760          0.3001              0.14710         0.2419   \n",
       "1           0.07864          0.0869              0.07017         0.1812   \n",
       "2           0.15990          0.1974              0.12790         0.2069   \n",
       "3           0.28390          0.2414              0.10520         0.2597   \n",
       "4           0.13280          0.1980              0.10430         0.1809   \n",
       "\n",
       "   mean fractal dimension  ...  worst radius  worst texture  worst perimeter  \\\n",
       "0                 0.07871  ...         25.38          17.33           184.60   \n",
       "1                 0.05667  ...         24.99          23.41           158.80   \n",
       "2                 0.05999  ...         23.57          25.53           152.50   \n",
       "3                 0.09744  ...         14.91          26.50            98.87   \n",
       "4                 0.05883  ...         22.54          16.67           152.20   \n",
       "\n",
       "   worst area  worst smoothness  worst compactness  worst concavity  \\\n",
       "0      2019.0            0.1622             0.6656           0.7119   \n",
       "1      1956.0            0.1238             0.1866           0.2416   \n",
       "2      1709.0            0.1444             0.4245           0.4504   \n",
       "3       567.7            0.2098             0.8663           0.6869   \n",
       "4      1575.0            0.1374             0.2050           0.4000   \n",
       "\n",
       "   worst concave points  worst symmetry  worst fractal dimension  \n",
       "0                0.2654          0.4601                  0.11890  \n",
       "1                0.1860          0.2750                  0.08902  \n",
       "2                0.2430          0.3613                  0.08758  \n",
       "3                0.2575          0.6638                  0.17300  \n",
       "4                0.1625          0.2364                  0.07678  \n",
       "\n",
       "[5 rows x 30 columns]"
      ]
     },
     "execution_count": 28,
     "metadata": {},
     "output_type": "execute_result"
    }
   ],
   "source": [
    "X_df.head()"
   ]
  },
  {
   "cell_type": "code",
   "execution_count": 29,
   "metadata": {},
   "outputs": [
    {
     "name": "stdout",
     "output_type": "stream",
     "text": [
      "<class 'pandas.core.frame.DataFrame'>\n",
      "RangeIndex: 569 entries, 0 to 568\n",
      "Data columns (total 30 columns):\n",
      " #   Column                   Non-Null Count  Dtype  \n",
      "---  ------                   --------------  -----  \n",
      " 0   mean radius              569 non-null    float64\n",
      " 1   mean texture             569 non-null    float64\n",
      " 2   mean perimeter           569 non-null    float64\n",
      " 3   mean area                569 non-null    float64\n",
      " 4   mean smoothness          569 non-null    float64\n",
      " 5   mean compactness         569 non-null    float64\n",
      " 6   mean concavity           569 non-null    float64\n",
      " 7   mean concave points      569 non-null    float64\n",
      " 8   mean symmetry            569 non-null    float64\n",
      " 9   mean fractal dimension   569 non-null    float64\n",
      " 10  radius error             569 non-null    float64\n",
      " 11  texture error            569 non-null    float64\n",
      " 12  perimeter error          569 non-null    float64\n",
      " 13  area error               569 non-null    float64\n",
      " 14  smoothness error         569 non-null    float64\n",
      " 15  compactness error        569 non-null    float64\n",
      " 16  concavity error          569 non-null    float64\n",
      " 17  concave points error     569 non-null    float64\n",
      " 18  symmetry error           569 non-null    float64\n",
      " 19  fractal dimension error  569 non-null    float64\n",
      " 20  worst radius             569 non-null    float64\n",
      " 21  worst texture            569 non-null    float64\n",
      " 22  worst perimeter          569 non-null    float64\n",
      " 23  worst area               569 non-null    float64\n",
      " 24  worst smoothness         569 non-null    float64\n",
      " 25  worst compactness        569 non-null    float64\n",
      " 26  worst concavity          569 non-null    float64\n",
      " 27  worst concave points     569 non-null    float64\n",
      " 28  worst symmetry           569 non-null    float64\n",
      " 29  worst fractal dimension  569 non-null    float64\n",
      "dtypes: float64(30)\n",
      "memory usage: 133.5 KB\n"
     ]
    }
   ],
   "source": [
    "X_df.info()"
   ]
  },
  {
   "cell_type": "code",
   "execution_count": 30,
   "metadata": {},
   "outputs": [
    {
     "data": {
      "text/plain": [
       "(569, 30)"
      ]
     },
     "execution_count": 30,
     "metadata": {},
     "output_type": "execute_result"
    }
   ],
   "source": [
    "X_df.shape"
   ]
  },
  {
   "cell_type": "markdown",
   "metadata": {},
   "source": [
    "# KNN with Bagging classifier"
   ]
  },
  {
   "cell_type": "code",
   "execution_count": 35,
   "metadata": {},
   "outputs": [
    {
     "name": "stdout",
     "output_type": "stream",
     "text": [
      "{1: 0.9035087719298246, 2: 0.8728070175438597, 3: 0.9166666666666666, 4: 0.9035087719298246, 5: 0.9078947368421053, 6: 0.9122807017543859, 7: 0.9166666666666666, 8: 0.9166666666666666, 9: 0.9166666666666666, 10: 0.9122807017543859, 11: 0.9122807017543859, 12: 0.9078947368421053, 13: 0.9122807017543859, 14: 0.9078947368421053, 15: 0.9122807017543859, 16: 0.9078947368421053, 17: 0.9078947368421053, 18: 0.8991228070175439, 19: 0.8991228070175439, 20: 0.9035087719298246, 21: 0.8947368421052632, 22: 0.8947368421052632, 23: 0.8947368421052632, 24: 0.8947368421052632, 25: 0.8947368421052632}\n"
     ]
    }
   ],
   "source": [
    "from sklearn.neighbors import KNeighborsClassifier\n",
    "from sklearn.ensemble import BaggingClassifier\n",
    "from sklearn.model_selection import train_test_split\n",
    "from sklearn import metrics\n",
    "k_range=range(1,26)\n",
    "score = []\n",
    "for k in k_range:\n",
    "    X_train,X_test,y_train,y_test=train_test_split(X,y,test_size=0.4, random_state=4)\n",
    "    knn = KNeighborsClassifier(n_neighbors=k)\n",
    "    knn.fit(X_train,y_train)\n",
    "    y_pred = knn.predict(X_test)\n",
    "    score.append(metrics.accuracy_score(y_test,y_pred))\n",
    "#thelist prints all the value of accuracy for each K\n",
    "  \n",
    "print(dict(zip(k_range,score)))"
   ]
  },
  {
   "cell_type": "code",
   "execution_count": 36,
   "metadata": {},
   "outputs": [
    {
     "data": {
      "image/png": "[encoded data removed]",
      "text/plain": [
       "<Figure size 432x288 with 1 Axes>"
      ]
     },
     "metadata": {
      "needs_background": "light"
     },
     "output_type": "display_data"
    }
   ],
   "source": [
    "import matplotlib.pyplot as plt\n",
    "plt.plot(k_range,score)\n",
    "plt.xlabel('Value of K')\n",
    "plt.ylabel('Accuracy')\n",
    "plt.show()"
   ]
  },
  {
   "cell_type": "code",
   "execution_count": 37,
   "metadata": {},
   "outputs": [],
   "source": [
    "knn_best = KNeighborsClassifier(n_neighbors=8)"
   ]
  },
  {
   "cell_type": "markdown",
   "metadata": {},
   "source": [
    "conclude that the value of K at 3,7,8,9 is the best. we will go for 9 to avoid overfitting"
   ]
  },
  {
   "cell_type": "code",
   "execution_count": 38,
   "metadata": {},
   "outputs": [],
   "source": [
    "bag_knn = BaggingClassifier(knn_best,\n",
    "                            n_estimators=50, max_samples=0.5,\n",
    "                            bootstrap=True, random_state=4,oob_score=True,verbose = 3)"
   ]
  },
  {
   "cell_type": "code",
   "execution_count": 39,
   "metadata": {},
   "outputs": [
    {
     "name": "stderr",
     "output_type": "stream",
     "text": [
      "[Parallel(n_jobs=1)]: Using backend SequentialBackend with 1 concurrent workers.\n",
      "[Parallel(n_jobs=1)]: Done   1 out of   1 | elapsed:    0.0s remaining:    0.0s\n",
      "[Parallel(n_jobs=1)]: Done   1 out of   1 | elapsed:    0.0s finished\n"
     ]
    },
    {
     "name": "stdout",
     "output_type": "stream",
     "text": [
      "Building estimator 1 of 50 for this parallel run (total 50)...\n",
      "Building estimator 2 of 50 for this parallel run (total 50)...\n",
      "Building estimator 3 of 50 for this parallel run (total 50)...\n",
      "Building estimator 4 of 50 for this parallel run (total 50)...\n",
      "Building estimator 5 of 50 for this parallel run (total 50)...\n",
      "Building estimator 6 of 50 for this parallel run (total 50)...\n",
      "Building estimator 7 of 50 for this parallel run (total 50)...\n",
      "Building estimator 8 of 50 for this parallel run (total 50)...\n",
      "Building estimator 9 of 50 for this parallel run (total 50)...\n",
      "Building estimator 10 of 50 for this parallel run (total 50)...\n",
      "Building estimator 11 of 50 for this parallel run (total 50)...\n",
      "Building estimator 12 of 50 for this parallel run (total 50)...\n",
      "Building estimator 13 of 50 for this parallel run (total 50)...\n",
      "Building estimator 14 of 50 for this parallel run (total 50)...\n",
      "Building estimator 15 of 50 for this parallel run (total 50)...\n",
      "Building estimator 16 of 50 for this parallel run (total 50)...\n",
      "Building estimator 17 of 50 for this parallel run (total 50)...\n",
      "Building estimator 18 of 50 for this parallel run (total 50)...\n",
      "Building estimator 19 of 50 for this parallel run (total 50)...\n",
      "Building estimator 20 of 50 for this parallel run (total 50)...\n",
      "Building estimator 21 of 50 for this parallel run (total 50)...\n",
      "Building estimator 22 of 50 for this parallel run (total 50)...\n",
      "Building estimator 23 of 50 for this parallel run (total 50)...\n",
      "Building estimator 24 of 50 for this parallel run (total 50)...\n",
      "Building estimator 25 of 50 for this parallel run (total 50)...\n",
      "Building estimator 26 of 50 for this parallel run (total 50)...\n",
      "Building estimator 27 of 50 for this parallel run (total 50)...\n",
      "Building estimator 28 of 50 for this parallel run (total 50)...\n",
      "Building estimator 29 of 50 for this parallel run (total 50)...\n",
      "Building estimator 30 of 50 for this parallel run (total 50)...\n",
      "Building estimator 31 of 50 for this parallel run (total 50)...\n",
      "Building estimator 32 of 50 for this parallel run (total 50)...\n",
      "Building estimator 33 of 50 for this parallel run (total 50)...\n",
      "Building estimator 34 of 50 for this parallel run (total 50)...\n",
      "Building estimator 35 of 50 for this parallel run (total 50)...\n",
      "Building estimator 36 of 50 for this parallel run (total 50)...\n",
      "Building estimator 37 of 50 for this parallel run (total 50)...\n",
      "Building estimator 38 of 50 for this parallel run (total 50)...\n",
      "Building estimator 39 of 50 for this parallel run (total 50)...\n",
      "Building estimator 40 of 50 for this parallel run (total 50)...\n",
      "Building estimator 41 of 50 for this parallel run (total 50)...\n",
      "Building estimator 42 of 50 for this parallel run (total 50)...\n",
      "Building estimator 43 of 50 for this parallel run (total 50)...\n",
      "Building estimator 44 of 50 for this parallel run (total 50)...\n",
      "Building estimator 45 of 50 for this parallel run (total 50)...\n",
      "Building estimator 46 of 50 for this parallel run (total 50)...\n",
      "Building estimator 47 of 50 for this parallel run (total 50)...\n",
      "Building estimator 48 of 50 for this parallel run (total 50)...\n",
      "Building estimator 49 of 50 for this parallel run (total 50)...\n",
      "Building estimator 50 of 50 for this parallel run (total 50)...\n"
     ]
    },
    {
     "name": "stderr",
     "output_type": "stream",
     "text": [
      "[Parallel(n_jobs=1)]: Using backend SequentialBackend with 1 concurrent workers.\n",
      "[Parallel(n_jobs=1)]: Done   1 out of   1 | elapsed:    0.1s remaining:    0.0s\n",
      "[Parallel(n_jobs=1)]: Done   1 out of   1 | elapsed:    0.1s finished\n"
     ]
    },
    {
     "data": {
      "text/plain": [
       "0.9078947368421053"
      ]
     },
     "execution_count": 39,
     "metadata": {},
     "output_type": "execute_result"
    }
   ],
   "source": [
    "bag_knn.fit(X_train, y_train)\n",
    "bag_knn.score(X_test, y_test)"
   ]
  },
  {
   "cell_type": "code",
   "execution_count": 40,
   "metadata": {},
   "outputs": [
    {
     "data": {
      "text/plain": [
       "0.9413489736070382"
      ]
     },
     "execution_count": 40,
     "metadata": {},
     "output_type": "execute_result"
    }
   ],
   "source": [
    "bag_knn.oob_score_"
   ]
  },
  {
   "cell_type": "code",
   "execution_count": 43,
   "metadata": {},
   "outputs": [],
   "source": [
    "from sklearn.model_selection import train_test_split,GridSearchCV"
   ]
  },
  {
   "cell_type": "markdown",
   "metadata": {},
   "source": [
    "# Decision Tree with Bagging classifier"
   ]
  },
  {
   "cell_type": "code",
   "execution_count": 41,
   "metadata": {},
   "outputs": [
    {
     "data": {
      "text/plain": [
       "{'criterion': ['gini', 'entropy'],\n",
       " 'max_depth': range(2, 32),\n",
       " 'min_samples_leaf': array([0.1, 0.2, 0.3, 0.4, 0.5]),\n",
       " 'min_samples_split': array([0.1, 0.2, 0.3, 0.4, 0.5, 0.6, 0.7, 0.8, 0.9, 1. ]),\n",
       " 'splitter': ['best', 'random']}"
      ]
     },
     "execution_count": 41,
     "metadata": {},
     "output_type": "execute_result"
    }
   ],
   "source": [
    "from sklearn.tree import DecisionTreeClassifier\n",
    "dtc=DecisionTreeClassifier()\n",
    "# we are tuning three hyperparameters right now, we are passing the different values for both parameters\n",
    "grid_param = {\n",
    "    'criterion': ['gini', 'entropy'],\n",
    "    'max_depth' : range(2,32,1),\n",
    "    'min_samples_leaf' : np.linspace(0.1, 0.5, 5, endpoint=True),\n",
    "    'min_samples_split': np.linspace(0.1, 1.0, 10, endpoint=True),\n",
    "    'splitter' : ['best', 'random']\n",
    "    \n",
    "}\n",
    "grid_param"
   ]
  },
  {
   "cell_type": "code",
   "execution_count": 44,
   "metadata": {},
   "outputs": [],
   "source": [
    "grid_search = GridSearchCV(estimator=dtc,\n",
    "                     param_grid=grid_param,\n",
    "                     cv=5,\n",
    "                    n_jobs =-1,verbose = 3)"
   ]
  },
  {
   "cell_type": "code",
   "execution_count": 45,
   "metadata": {},
   "outputs": [
    {
     "name": "stdout",
     "output_type": "stream",
     "text": [
      "Fitting 5 folds for each of 6000 candidates, totalling 30000 fits\n"
     ]
    },
    {
     "name": "stderr",
     "output_type": "stream",
     "text": [
      "[Parallel(n_jobs=-1)]: Using backend LokyBackend with 8 concurrent workers.\n",
      "[Parallel(n_jobs=-1)]: Done  16 tasks      | elapsed:    2.0s\n",
      "[Parallel(n_jobs=-1)]: Done 528 tasks      | elapsed:    3.1s\n",
      "[Parallel(n_jobs=-1)]: Done 3088 tasks      | elapsed:    7.9s\n",
      "[Parallel(n_jobs=-1)]: Done 6672 tasks      | elapsed:   11.6s\n",
      "[Parallel(n_jobs=-1)]: Done 11280 tasks      | elapsed:   16.4s\n",
      "[Parallel(n_jobs=-1)]: Done 16912 tasks      | elapsed:   22.1s\n",
      "[Parallel(n_jobs=-1)]: Done 23568 tasks      | elapsed:   28.8s\n",
      "[Parallel(n_jobs=-1)]: Done 30000 out of 30000 | elapsed:   35.2s finished\n"
     ]
    },
    {
     "data": {
      "text/plain": [
       "GridSearchCV(cv=5, error_score=nan,\n",
       "             estimator=DecisionTreeClassifier(ccp_alpha=0.0, class_weight=None,\n",
       "                                              criterion='gini', max_depth=None,\n",
       "                                              max_features=None,\n",
       "                                              max_leaf_nodes=None,\n",
       "                                              min_impurity_decrease=0.0,\n",
       "                                              min_impurity_split=None,\n",
       "                                              min_samples_leaf=1,\n",
       "                                              min_samples_split=2,\n",
       "                                              min_weight_fraction_leaf=0.0,\n",
       "                                              presort='deprecated',\n",
       "                                              random_state=None,\n",
       "                                              splitter='best'),\n",
       "             iid='deprecated', n_jobs=-1,\n",
       "             param_grid={'criterion': ['gini', 'entropy'],\n",
       "                         'max_depth': range(2, 32),\n",
       "                         'min_samples_leaf': array([0.1, 0.2, 0.3, 0.4, 0.5]),\n",
       "                         'min_samples_split': array([0.1, 0.2, 0.3, 0.4, 0.5, 0.6, 0.7, 0.8, 0.9, 1. ]),\n",
       "                         'splitter': ['best', 'random']},\n",
       "             pre_dispatch='2*n_jobs', refit=True, return_train_score=False,\n",
       "             scoring=None, verbose=3)"
      ]
     },
     "execution_count": 45,
     "metadata": {},
     "output_type": "execute_result"
    }
   ],
   "source": [
    "grid_search.fit(X_train,y_train)"
   ]
  },
  {
   "cell_type": "code",
   "execution_count": 46,
   "metadata": {},
   "outputs": [
    {
     "name": "stdout",
     "output_type": "stream",
     "text": [
      "{'criterion': 'entropy', 'max_depth': 18, 'min_samples_leaf': 0.1, 'min_samples_split': 0.30000000000000004, 'splitter': 'random'}\n"
     ]
    }
   ],
   "source": [
    "best_parameters = grid_search.best_params_\n",
    "print(best_parameters)"
   ]
  },
  {
   "cell_type": "code",
   "execution_count": 47,
   "metadata": {},
   "outputs": [],
   "source": [
    "dtc_best = DecisionTreeClassifier(criterion = 'entropy', max_depth =18, min_samples_leaf= 0.1, min_samples_split= 0.30000000000000004, splitter ='random')"
   ]
  },
  {
   "cell_type": "code",
   "execution_count": 50,
   "metadata": {},
   "outputs": [],
   "source": [
    "bag_dtc = BaggingClassifier(dtc_best,\n",
    "                            n_estimators=50, max_samples=0.5,\n",
    "                            bootstrap=True, random_state=4,oob_score=True,verbose = 3)"
   ]
  },
  {
   "cell_type": "code",
   "execution_count": 51,
   "metadata": {},
   "outputs": [
    {
     "name": "stderr",
     "output_type": "stream",
     "text": [
      "[Parallel(n_jobs=1)]: Using backend SequentialBackend with 1 concurrent workers.\n",
      "[Parallel(n_jobs=1)]: Done   1 out of   1 | elapsed:    0.0s remaining:    0.0s\n",
      "[Parallel(n_jobs=1)]: Done   1 out of   1 | elapsed:    0.0s finished\n",
      "[Parallel(n_jobs=1)]: Using backend SequentialBackend with 1 concurrent workers.\n",
      "[Parallel(n_jobs=1)]: Done   1 out of   1 | elapsed:    0.0s remaining:    0.0s\n"
     ]
    },
    {
     "name": "stdout",
     "output_type": "stream",
     "text": [
      "Building estimator 1 of 50 for this parallel run (total 50)...\n",
      "Building estimator 2 of 50 for this parallel run (total 50)...\n",
      "Building estimator 3 of 50 for this parallel run (total 50)...\n",
      "Building estimator 4 of 50 for this parallel run (total 50)...\n",
      "Building estimator 5 of 50 for this parallel run (total 50)...\n",
      "Building estimator 6 of 50 for this parallel run (total 50)...\n",
      "Building estimator 7 of 50 for this parallel run (total 50)...\n",
      "Building estimator 8 of 50 for this parallel run (total 50)...\n",
      "Building estimator 9 of 50 for this parallel run (total 50)...\n",
      "Building estimator 10 of 50 for this parallel run (total 50)...\n",
      "Building estimator 11 of 50 for this parallel run (total 50)...\n",
      "Building estimator 12 of 50 for this parallel run (total 50)...\n",
      "Building estimator 13 of 50 for this parallel run (total 50)...\n",
      "Building estimator 14 of 50 for this parallel run (total 50)...\n",
      "Building estimator 15 of 50 for this parallel run (total 50)...\n",
      "Building estimator 16 of 50 for this parallel run (total 50)...\n",
      "Building estimator 17 of 50 for this parallel run (total 50)...\n",
      "Building estimator 18 of 50 for this parallel run (total 50)...\n",
      "Building estimator 19 of 50 for this parallel run (total 50)...\n",
      "Building estimator 20 of 50 for this parallel run (total 50)...\n",
      "Building estimator 21 of 50 for this parallel run (total 50)...\n",
      "Building estimator 22 of 50 for this parallel run (total 50)...\n",
      "Building estimator 23 of 50 for this parallel run (total 50)...\n",
      "Building estimator 24 of 50 for this parallel run (total 50)...\n",
      "Building estimator 25 of 50 for this parallel run (total 50)...\n",
      "Building estimator 26 of 50 for this parallel run (total 50)...\n",
      "Building estimator 27 of 50 for this parallel run (total 50)...\n",
      "Building estimator 28 of 50 for this parallel run (total 50)...\n",
      "Building estimator 29 of 50 for this parallel run (total 50)...\n",
      "Building estimator 30 of 50 for this parallel run (total 50)...\n",
      "Building estimator 31 of 50 for this parallel run (total 50)...\n",
      "Building estimator 32 of 50 for this parallel run (total 50)...\n",
      "Building estimator 33 of 50 for this parallel run (total 50)...\n",
      "Building estimator 34 of 50 for this parallel run (total 50)...\n",
      "Building estimator 35 of 50 for this parallel run (total 50)...\n",
      "Building estimator 36 of 50 for this parallel run (total 50)...\n",
      "Building estimator 37 of 50 for this parallel run (total 50)...\n",
      "Building estimator 38 of 50 for this parallel run (total 50)...\n",
      "Building estimator 39 of 50 for this parallel run (total 50)...\n",
      "Building estimator 40 of 50 for this parallel run (total 50)...\n",
      "Building estimator 41 of 50 for this parallel run (total 50)...\n",
      "Building estimator 42 of 50 for this parallel run (total 50)...\n",
      "Building estimator 43 of 50 for this parallel run (total 50)...\n",
      "Building estimator 44 of 50 for this parallel run (total 50)...\n",
      "Building estimator 45 of 50 for this parallel run (total 50)...\n",
      "Building estimator 46 of 50 for this parallel run (total 50)...\n",
      "Building estimator 47 of 50 for this parallel run (total 50)...\n",
      "Building estimator 48 of 50 for this parallel run (total 50)...\n",
      "Building estimator 49 of 50 for this parallel run (total 50)...\n",
      "Building estimator 50 of 50 for this parallel run (total 50)...\n"
     ]
    },
    {
     "name": "stderr",
     "output_type": "stream",
     "text": [
      "[Parallel(n_jobs=1)]: Done   1 out of   1 | elapsed:    0.0s finished\n"
     ]
    },
    {
     "data": {
      "text/plain": [
       "0.9166666666666666"
      ]
     },
     "execution_count": 51,
     "metadata": {},
     "output_type": "execute_result"
    }
   ],
   "source": [
    "bag_dtc.fit(X_train, y_train)\n",
    "bag_dtc.score(X_test, y_test)"
   ]
  },
  {
   "cell_type": "code",
   "execution_count": 52,
   "metadata": {},
   "outputs": [
    {
     "data": {
      "text/plain": [
       "0.9442815249266863"
      ]
     },
     "execution_count": 52,
     "metadata": {},
     "output_type": "execute_result"
    }
   ],
   "source": [
    "bag_dtc.oob_score_"
   ]
  },
  {
   "cell_type": "markdown",
   "metadata": {},
   "source": [
    "Conclude from bagging classifier that botgh KNN and Decision Tree with hyper parameter tuning performs very well"
   ]
  },
  {
   "cell_type": "markdown",
   "metadata": {},
   "source": [
    "# Pasting - Boostrap = False - meaning no replacement and the scores are highly correlated\n",
    "Out of bag estimation only available if bootstrap=True"
   ]
  },
  {
   "cell_type": "code",
   "execution_count": 54,
   "metadata": {},
   "outputs": [
    {
     "name": "stderr",
     "output_type": "stream",
     "text": [
      "[Parallel(n_jobs=1)]: Using backend SequentialBackend with 1 concurrent workers.\n",
      "[Parallel(n_jobs=1)]: Done   1 out of   1 | elapsed:    0.0s remaining:    0.0s\n",
      "[Parallel(n_jobs=1)]: Done   1 out of   1 | elapsed:    0.0s finished\n",
      "[Parallel(n_jobs=1)]: Using backend SequentialBackend with 1 concurrent workers.\n"
     ]
    },
    {
     "name": "stdout",
     "output_type": "stream",
     "text": [
      "Building estimator 1 of 50 for this parallel run (total 50)...\n",
      "Building estimator 2 of 50 for this parallel run (total 50)...\n",
      "Building estimator 3 of 50 for this parallel run (total 50)...\n",
      "Building estimator 4 of 50 for this parallel run (total 50)...\n",
      "Building estimator 5 of 50 for this parallel run (total 50)...\n",
      "Building estimator 6 of 50 for this parallel run (total 50)...\n",
      "Building estimator 7 of 50 for this parallel run (total 50)...\n",
      "Building estimator 8 of 50 for this parallel run (total 50)...\n",
      "Building estimator 9 of 50 for this parallel run (total 50)...\n",
      "Building estimator 10 of 50 for this parallel run (total 50)...\n",
      "Building estimator 11 of 50 for this parallel run (total 50)...\n",
      "Building estimator 12 of 50 for this parallel run (total 50)...\n",
      "Building estimator 13 of 50 for this parallel run (total 50)...\n",
      "Building estimator 14 of 50 for this parallel run (total 50)...\n",
      "Building estimator 15 of 50 for this parallel run (total 50)...\n",
      "Building estimator 16 of 50 for this parallel run (total 50)...\n",
      "Building estimator 17 of 50 for this parallel run (total 50)...\n",
      "Building estimator 18 of 50 for this parallel run (total 50)...\n",
      "Building estimator 19 of 50 for this parallel run (total 50)...\n",
      "Building estimator 20 of 50 for this parallel run (total 50)...\n",
      "Building estimator 21 of 50 for this parallel run (total 50)...\n",
      "Building estimator 22 of 50 for this parallel run (total 50)...\n",
      "Building estimator 23 of 50 for this parallel run (total 50)...\n",
      "Building estimator 24 of 50 for this parallel run (total 50)...\n",
      "Building estimator 25 of 50 for this parallel run (total 50)...\n",
      "Building estimator 26 of 50 for this parallel run (total 50)...\n",
      "Building estimator 27 of 50 for this parallel run (total 50)...\n",
      "Building estimator 28 of 50 for this parallel run (total 50)...\n",
      "Building estimator 29 of 50 for this parallel run (total 50)...\n",
      "Building estimator 30 of 50 for this parallel run (total 50)...\n",
      "Building estimator 31 of 50 for this parallel run (total 50)...\n",
      "Building estimator 32 of 50 for this parallel run (total 50)...\n",
      "Building estimator 33 of 50 for this parallel run (total 50)...\n",
      "Building estimator 34 of 50 for this parallel run (total 50)...\n",
      "Building estimator 35 of 50 for this parallel run (total 50)...\n",
      "Building estimator 36 of 50 for this parallel run (total 50)...\n",
      "Building estimator 37 of 50 for this parallel run (total 50)...\n",
      "Building estimator 38 of 50 for this parallel run (total 50)...\n",
      "Building estimator 39 of 50 for this parallel run (total 50)...\n",
      "Building estimator 40 of 50 for this parallel run (total 50)...\n",
      "Building estimator 41 of 50 for this parallel run (total 50)...\n",
      "Building estimator 42 of 50 for this parallel run (total 50)...\n",
      "Building estimator 43 of 50 for this parallel run (total 50)...\n",
      "Building estimator 44 of 50 for this parallel run (total 50)...\n",
      "Building estimator 45 of 50 for this parallel run (total 50)...\n",
      "Building estimator 46 of 50 for this parallel run (total 50)...\n",
      "Building estimator 47 of 50 for this parallel run (total 50)...\n",
      "Building estimator 48 of 50 for this parallel run (total 50)...\n",
      "Building estimator 49 of 50 for this parallel run (total 50)...\n",
      "Building estimator 50 of 50 for this parallel run (total 50)...\n"
     ]
    },
    {
     "name": "stderr",
     "output_type": "stream",
     "text": [
      "[Parallel(n_jobs=1)]: Done   1 out of   1 | elapsed:    0.1s remaining:    0.0s\n",
      "[Parallel(n_jobs=1)]: Done   1 out of   1 | elapsed:    0.1s finished\n"
     ]
    },
    {
     "data": {
      "text/plain": [
       "0.9122807017543859"
      ]
     },
     "execution_count": 54,
     "metadata": {},
     "output_type": "execute_result"
    }
   ],
   "source": [
    "pasting_knn = BaggingClassifier(knn_best,\n",
    "                            n_estimators=50, max_samples=0.5,\n",
    "                            bootstrap=False, random_state=4,verbose = 3)\n",
    "pasting_knn.fit(X_train, y_train)\n",
    "pasting_knn.score(X_test, y_test)"
   ]
  },
  {
   "cell_type": "code",
   "execution_count": 55,
   "metadata": {},
   "outputs": [
    {
     "name": "stdout",
     "output_type": "stream",
     "text": [
      "Building estimator 1 of 50 for this parallel run (total 50)...\n",
      "Building estimator 2 of 50 for this parallel run (total 50)...\n",
      "Building estimator 3 of 50 for this parallel run (total 50)...\n",
      "Building estimator 4 of 50 for this parallel run (total 50)...\n",
      "Building estimator 5 of 50 for this parallel run (total 50)...\n",
      "Building estimator 6 of 50 for this parallel run (total 50)...\n",
      "Building estimator 7 of 50 for this parallel run (total 50)...\n",
      "Building estimator 8 of 50 for this parallel run (total 50)...\n",
      "Building estimator 9 of 50 for this parallel run (total 50)...\n",
      "Building estimator 10 of 50 for this parallel run (total 50)...\n",
      "Building estimator 11 of 50 for this parallel run (total 50)...\n",
      "Building estimator 12 of 50 for this parallel run (total 50)...\n",
      "Building estimator 13 of 50 for this parallel run (total 50)...\n",
      "Building estimator 14 of 50 for this parallel run (total 50)...\n",
      "Building estimator 15 of 50 for this parallel run (total 50)...\n",
      "Building estimator 16 of 50 for this parallel run (total 50)...\n",
      "Building estimator 17 of 50 for this parallel run (total 50)...\n",
      "Building estimator 18 of 50 for this parallel run (total 50)...\n",
      "Building estimator 19 of 50 for this parallel run (total 50)...\n",
      "Building estimator 20 of 50 for this parallel run (total 50)...\n",
      "Building estimator 21 of 50 for this parallel run (total 50)...\n",
      "Building estimator 22 of 50 for this parallel run (total 50)...\n",
      "Building estimator 23 of 50 for this parallel run (total 50)...\n",
      "Building estimator 24 of 50 for this parallel run (total 50)...\n",
      "Building estimator 25 of 50 for this parallel run (total 50)...\n",
      "Building estimator 26 of 50 for this parallel run (total 50)...\n",
      "Building estimator 27 of 50 for this parallel run (total 50)...\n",
      "Building estimator 28 of 50 for this parallel run (total 50)...\n",
      "Building estimator 29 of 50 for this parallel run (total 50)...\n",
      "Building estimator 30 of 50 for this parallel run (total 50)...\n",
      "Building estimator 31 of 50 for this parallel run (total 50)...\n",
      "Building estimator 32 of 50 for this parallel run (total 50)...\n",
      "Building estimator 33 of 50 for this parallel run (total 50)...\n",
      "Building estimator 34 of 50 for this parallel run (total 50)...\n",
      "Building estimator 35 of 50 for this parallel run (total 50)...\n",
      "Building estimator 36 of 50 for this parallel run (total 50)...\n",
      "Building estimator 37 of 50 for this parallel run (total 50)...\n",
      "Building estimator 38 of 50 for this parallel run (total 50)...\n",
      "Building estimator 39 of 50 for this parallel run (total 50)...\n",
      "Building estimator 40 of 50 for this parallel run (total 50)...\n",
      "Building estimator 41 of 50 for this parallel run (total 50)...\n",
      "Building estimator 42 of 50 for this parallel run (total 50)...\n",
      "Building estimator 43 of 50 for this parallel run (total 50)...\n",
      "Building estimator 44 of 50 for this parallel run (total 50)...\n",
      "Building estimator 45 of 50 for this parallel run (total 50)...\n",
      "Building estimator 46 of 50 for this parallel run (total 50)...\n",
      "Building estimator 47 of 50 for this parallel run (total 50)...\n",
      "Building estimator 48 of 50 for this parallel run (total 50)...\n",
      "Building estimator 49 of 50 for this parallel run (total 50)...\n",
      "Building estimator 50 of 50 for this parallel run (total 50)...\n"
     ]
    },
    {
     "name": "stderr",
     "output_type": "stream",
     "text": [
      "[Parallel(n_jobs=1)]: Using backend SequentialBackend with 1 concurrent workers.\n",
      "[Parallel(n_jobs=1)]: Done   1 out of   1 | elapsed:    0.1s remaining:    0.0s\n",
      "[Parallel(n_jobs=1)]: Done   1 out of   1 | elapsed:    0.1s finished\n",
      "[Parallel(n_jobs=1)]: Using backend SequentialBackend with 1 concurrent workers.\n",
      "[Parallel(n_jobs=1)]: Done   1 out of   1 | elapsed:    0.0s remaining:    0.0s\n",
      "[Parallel(n_jobs=1)]: Done   1 out of   1 | elapsed:    0.0s finished\n"
     ]
    },
    {
     "data": {
      "text/plain": [
       "0.9254385964912281"
      ]
     },
     "execution_count": 55,
     "metadata": {},
     "output_type": "execute_result"
    }
   ],
   "source": [
    "pasting_dtc = BaggingClassifier(dtc_best,\n",
    "                            n_estimators=50, max_samples=0.5,\n",
    "                            bootstrap=False, random_state=4,verbose = 3)\n",
    "pasting_dtc.fit(X_train, y_train)\n",
    "pasting_dtc.score(X_test, y_test)"
   ]
  },
  {
   "cell_type": "markdown",
   "metadata": {},
   "source": [
    "# Random Forest - special case of Bagging with randomly selected features as well\n",
    "winequality dataset"
   ]
  },
  {
   "cell_type": "code",
   "execution_count": 56,
   "metadata": {},
   "outputs": [],
   "source": [
    "import pandas as pd\n",
    "from sklearn.tree import DecisionTreeClassifier\n",
    "from sklearn.ensemble import RandomForestClassifier\n",
    "from sklearn import tree\n",
    "from sklearn.model_selection import train_test_split,GridSearchCV\n",
    "from sklearn.preprocessing import StandardScaler\n",
    "from sklearn.metrics import accuracy_score, confusion_matrix, roc_curve, roc_auc_score"
   ]
  },
  {
   "cell_type": "code",
   "execution_count": 57,
   "metadata": {},
   "outputs": [
    {
     "data": {
      "text/html": [
       "<div>\n",
       "<style scoped>\n",
       "    .dataframe tbody tr th:only-of-type {\n",
       "        vertical-align: middle;\n",
       "    }\n",
       "\n",
       "    .dataframe tbody tr th {\n",
       "        vertical-align: top;\n",
       "    }\n",
       "\n",
       "    .dataframe thead th {\n",
       "        text-align: right;\n",
       "    }\n",
       "</style>\n",
       "<table border=\"1\" class=\"dataframe\">\n",
       "  <thead>\n",
       "    <tr style=\"text-align: right;\">\n",
       "      <th></th>\n",
       "      <th>fixed acidity</th>\n",
       "      <th>volatile acidity</th>\n",
       "      <th>citric acid</th>\n",
       "      <th>residual sugar</th>\n",
       "      <th>chlorides</th>\n",
       "      <th>free sulfur dioxide</th>\n",
       "      <th>total sulfur dioxide</th>\n",
       "      <th>density</th>\n",
       "      <th>pH</th>\n",
       "      <th>sulphates</th>\n",
       "      <th>alcohol</th>\n",
       "      <th>quality</th>\n",
       "    </tr>\n",
       "  </thead>\n",
       "  <tbody>\n",
       "    <tr>\n",
       "      <th>0</th>\n",
       "      <td>7.4</td>\n",
       "      <td>0.70</td>\n",
       "      <td>0.00</td>\n",
       "      <td>1.9</td>\n",
       "      <td>0.076</td>\n",
       "      <td>11.0</td>\n",
       "      <td>34.0</td>\n",
       "      <td>0.9978</td>\n",
       "      <td>3.51</td>\n",
       "      <td>0.56</td>\n",
       "      <td>9.4</td>\n",
       "      <td>5</td>\n",
       "    </tr>\n",
       "    <tr>\n",
       "      <th>1</th>\n",
       "      <td>7.8</td>\n",
       "      <td>0.88</td>\n",
       "      <td>0.00</td>\n",
       "      <td>2.6</td>\n",
       "      <td>0.098</td>\n",
       "      <td>25.0</td>\n",
       "      <td>67.0</td>\n",
       "      <td>0.9968</td>\n",
       "      <td>3.20</td>\n",
       "      <td>0.68</td>\n",
       "      <td>9.8</td>\n",
       "      <td>5</td>\n",
       "    </tr>\n",
       "    <tr>\n",
       "      <th>2</th>\n",
       "      <td>7.8</td>\n",
       "      <td>0.76</td>\n",
       "      <td>0.04</td>\n",
       "      <td>2.3</td>\n",
       "      <td>0.092</td>\n",
       "      <td>15.0</td>\n",
       "      <td>54.0</td>\n",
       "      <td>0.9970</td>\n",
       "      <td>3.26</td>\n",
       "      <td>0.65</td>\n",
       "      <td>9.8</td>\n",
       "      <td>5</td>\n",
       "    </tr>\n",
       "    <tr>\n",
       "      <th>3</th>\n",
       "      <td>11.2</td>\n",
       "      <td>0.28</td>\n",
       "      <td>0.56</td>\n",
       "      <td>1.9</td>\n",
       "      <td>0.075</td>\n",
       "      <td>17.0</td>\n",
       "      <td>60.0</td>\n",
       "      <td>0.9980</td>\n",
       "      <td>3.16</td>\n",
       "      <td>0.58</td>\n",
       "      <td>9.8</td>\n",
       "      <td>6</td>\n",
       "    </tr>\n",
       "    <tr>\n",
       "      <th>4</th>\n",
       "      <td>7.4</td>\n",
       "      <td>0.70</td>\n",
       "      <td>0.00</td>\n",
       "      <td>1.9</td>\n",
       "      <td>0.076</td>\n",
       "      <td>11.0</td>\n",
       "      <td>34.0</td>\n",
       "      <td>0.9978</td>\n",
       "      <td>3.51</td>\n",
       "      <td>0.56</td>\n",
       "      <td>9.4</td>\n",
       "      <td>5</td>\n",
       "    </tr>\n",
       "  </tbody>\n",
       "</table>\n",
       "</div>"
      ],
      "text/plain": [
       "   fixed acidity  volatile acidity  citric acid  residual sugar  chlorides  \\\n",
       "0            7.4              0.70         0.00             1.9      0.076   \n",
       "1            7.8              0.88         0.00             2.6      0.098   \n",
       "2            7.8              0.76         0.04             2.3      0.092   \n",
       "3           11.2              0.28         0.56             1.9      0.075   \n",
       "4            7.4              0.70         0.00             1.9      0.076   \n",
       "\n",
       "   free sulfur dioxide  total sulfur dioxide  density    pH  sulphates  \\\n",
       "0                 11.0                  34.0   0.9978  3.51       0.56   \n",
       "1                 25.0                  67.0   0.9968  3.20       0.68   \n",
       "2                 15.0                  54.0   0.9970  3.26       0.65   \n",
       "3                 17.0                  60.0   0.9980  3.16       0.58   \n",
       "4                 11.0                  34.0   0.9978  3.51       0.56   \n",
       "\n",
       "   alcohol  quality  \n",
       "0      9.4        5  \n",
       "1      9.8        5  \n",
       "2      9.8        5  \n",
       "3      9.8        6  \n",
       "4      9.4        5  "
      ]
     },
     "execution_count": 57,
     "metadata": {},
     "output_type": "execute_result"
    }
   ],
   "source": [
    "data = pd.read_csv(\"winequality_red.csv\")\n",
    "data.head()"
   ]
  },
  {
   "cell_type": "code",
   "execution_count": 61,
   "metadata": {},
   "outputs": [],
   "source": [
    "X = data.drop(columns = 'quality')\n",
    "y = data['quality']"
   ]
  },
  {
   "cell_type": "code",
   "execution_count": 62,
   "metadata": {},
   "outputs": [],
   "source": [
    "x_train,x_test,y_train,y_test = train_test_split(X,y,test_size = 0.30, random_state= 4)"
   ]
  },
  {
   "cell_type": "code",
   "execution_count": 65,
   "metadata": {},
   "outputs": [],
   "source": [
    "rand_clf = RandomForestClassifier(random_state=4)"
   ]
  },
  {
   "cell_type": "code",
   "execution_count": 66,
   "metadata": {},
   "outputs": [
    {
     "data": {
      "text/plain": [
       "RandomForestClassifier(bootstrap=True, ccp_alpha=0.0, class_weight=None,\n",
       "                       criterion='gini', max_depth=None, max_features='auto',\n",
       "                       max_leaf_nodes=None, max_samples=None,\n",
       "                       min_impurity_decrease=0.0, min_impurity_split=None,\n",
       "                       min_samples_leaf=1, min_samples_split=2,\n",
       "                       min_weight_fraction_leaf=0.0, n_estimators=100,\n",
       "                       n_jobs=None, oob_score=False, random_state=4, verbose=0,\n",
       "                       warm_start=False)"
      ]
     },
     "execution_count": 66,
     "metadata": {},
     "output_type": "execute_result"
    }
   ],
   "source": [
    "rand_clf.fit(x_train,y_train)"
   ]
  },
  {
   "cell_type": "code",
   "execution_count": 67,
   "metadata": {},
   "outputs": [
    {
     "data": {
      "text/plain": [
       "array([0.07443077, 0.10825212, 0.07192554, 0.06979039, 0.07918744,\n",
       "       0.0683394 , 0.10047233, 0.08963041, 0.07815551, 0.10954752,\n",
       "       0.15026857])"
      ]
     },
     "execution_count": 67,
     "metadata": {},
     "output_type": "execute_result"
    }
   ],
   "source": [
    "rand_clf.feature_importances_"
   ]
  },
  {
   "cell_type": "code",
   "execution_count": 70,
   "metadata": {},
   "outputs": [
    {
     "name": "stdout",
     "output_type": "stream",
     "text": [
      "Fitting 5 folds for each of 12000 candidates, totalling 60000 fits\n"
     ]
    },
    {
     "name": "stderr",
     "output_type": "stream",
     "text": [
      "[Parallel(n_jobs=-1)]: Using backend LokyBackend with 8 concurrent workers.\n",
      "[Parallel(n_jobs=-1)]: Done  16 tasks      | elapsed:    3.9s\n",
      "[Parallel(n_jobs=-1)]: Done 112 tasks      | elapsed:   10.4s\n",
      "[Parallel(n_jobs=-1)]: Done 272 tasks      | elapsed:   20.9s\n",
      "[Parallel(n_jobs=-1)]: Done 496 tasks      | elapsed:   40.6s\n",
      "[Parallel(n_jobs=-1)]: Done 784 tasks      | elapsed:  1.1min\n",
      "[Parallel(n_jobs=-1)]: Done 1136 tasks      | elapsed:  1.6min\n",
      "[Parallel(n_jobs=-1)]: Done 1552 tasks      | elapsed:  2.2min\n",
      "[Parallel(n_jobs=-1)]: Done 2032 tasks      | elapsed:  2.8min\n",
      "[Parallel(n_jobs=-1)]: Done 2576 tasks      | elapsed:  3.6min\n",
      "[Parallel(n_jobs=-1)]: Done 3184 tasks      | elapsed:  4.5min\n",
      "[Parallel(n_jobs=-1)]: Done 3856 tasks      | elapsed:  5.4min\n",
      "[Parallel(n_jobs=-1)]: Done 4592 tasks      | elapsed:  6.5min\n",
      "[Parallel(n_jobs=-1)]: Done 5392 tasks      | elapsed:  7.7min\n",
      "[Parallel(n_jobs=-1)]: Done 6256 tasks      | elapsed:  8.9min\n",
      "[Parallel(n_jobs=-1)]: Done 7184 tasks      | elapsed: 10.2min\n",
      "[Parallel(n_jobs=-1)]: Done 8176 tasks      | elapsed: 11.7min\n",
      "[Parallel(n_jobs=-1)]: Done 9232 tasks      | elapsed: 13.3min\n",
      "[Parallel(n_jobs=-1)]: Done 10352 tasks      | elapsed: 15.0min\n",
      "[Parallel(n_jobs=-1)]: Done 11536 tasks      | elapsed: 16.7min\n",
      "[Parallel(n_jobs=-1)]: Done 12784 tasks      | elapsed: 18.5min\n",
      "[Parallel(n_jobs=-1)]: Done 14096 tasks      | elapsed: 20.3min\n",
      "[Parallel(n_jobs=-1)]: Done 15472 tasks      | elapsed: 22.2min\n",
      "[Parallel(n_jobs=-1)]: Done 16912 tasks      | elapsed: 24.3min\n",
      "[Parallel(n_jobs=-1)]: Done 18416 tasks      | elapsed: 26.4min\n",
      "[Parallel(n_jobs=-1)]: Done 19984 tasks      | elapsed: 28.5min\n",
      "[Parallel(n_jobs=-1)]: Done 21616 tasks      | elapsed: 30.8min\n",
      "[Parallel(n_jobs=-1)]: Done 23312 tasks      | elapsed: 33.2min\n",
      "[Parallel(n_jobs=-1)]: Done 25072 tasks      | elapsed: 35.6min\n",
      "[Parallel(n_jobs=-1)]: Done 26896 tasks      | elapsed: 38.0min\n",
      "[Parallel(n_jobs=-1)]: Done 28784 tasks      | elapsed: 40.5min\n",
      "[Parallel(n_jobs=-1)]: Done 30736 tasks      | elapsed: 43.0min\n",
      "[Parallel(n_jobs=-1)]: Done 32752 tasks      | elapsed: 45.8min\n",
      "[Parallel(n_jobs=-1)]: Done 34832 tasks      | elapsed: 48.8min\n",
      "[Parallel(n_jobs=-1)]: Done 36976 tasks      | elapsed: 51.8min\n",
      "[Parallel(n_jobs=-1)]: Done 39184 tasks      | elapsed: 54.9min\n",
      "[Parallel(n_jobs=-1)]: Done 41456 tasks      | elapsed: 58.1min\n",
      "[Parallel(n_jobs=-1)]: Done 43792 tasks      | elapsed: 61.2min\n",
      "[Parallel(n_jobs=-1)]: Done 46192 tasks      | elapsed: 64.6min\n",
      "[Parallel(n_jobs=-1)]: Done 48656 tasks      | elapsed: 68.6min\n",
      "[Parallel(n_jobs=-1)]: Done 51184 tasks      | elapsed: 72.7min\n",
      "[Parallel(n_jobs=-1)]: Done 53776 tasks      | elapsed: 76.4min\n",
      "[Parallel(n_jobs=-1)]: Done 56432 tasks      | elapsed: 80.5min\n",
      "[Parallel(n_jobs=-1)]: Done 59152 tasks      | elapsed: 84.4min\n",
      "[Parallel(n_jobs=-1)]: Done 60000 out of 60000 | elapsed: 85.6min finished\n"
     ]
    },
    {
     "data": {
      "text/plain": [
       "GridSearchCV(cv=5, error_score=nan,\n",
       "             estimator=RandomForestClassifier(bootstrap=True, ccp_alpha=0.0,\n",
       "                                              class_weight=None,\n",
       "                                              criterion='gini', max_depth=None,\n",
       "                                              max_features='auto',\n",
       "                                              max_leaf_nodes=None,\n",
       "                                              max_samples=None,\n",
       "                                              min_impurity_decrease=0.0,\n",
       "                                              min_impurity_split=None,\n",
       "                                              min_samples_leaf=1,\n",
       "                                              min_samples_split=2,\n",
       "                                              min_weight_fraction_leaf=0.0,\n",
       "                                              n_estimators=100, n_jobs=None,...\n",
       "                                              verbose=0, warm_start=False),\n",
       "             iid='deprecated', n_jobs=-1,\n",
       "             param_grid={'max_depth': range(2, 32),\n",
       "                         'max_features': ['auto', 'log2'],\n",
       "                         'min_samples_leaf': array([0.1, 0.2, 0.3, 0.4, 0.5]),\n",
       "                         'min_samples_split': array([0.1, 0.2, 0.3, 0.4, 0.5, 0.6, 0.7, 0.8, 0.9, 1. ]),\n",
       "                         'n_estimators': [90, 100, 115, 130]},\n",
       "             pre_dispatch='2*n_jobs', refit=True, return_train_score=False,\n",
       "             scoring=None, verbose=3)"
      ]
     },
     "execution_count": 70,
     "metadata": {},
     "output_type": "execute_result"
    }
   ],
   "source": [
    "grid_param = {\n",
    "    \"n_estimators\" : [90,100,115,130],\n",
    "    'max_depth' : range(2,32,1),\n",
    "    'min_samples_leaf' : np.linspace(0.1, 0.5, 5, endpoint=True),\n",
    "    'min_samples_split': np.linspace(0.1, 1.0, 10, endpoint=True),\n",
    "    'max_features' : ['auto','log2']\n",
    "}\n",
    "grid_search = GridSearchCV(estimator=rand_clf,param_grid=grid_param,cv=5,n_jobs =-1,verbose = 3)\n",
    "grid_search.fit(x_train,y_train)"
   ]
  },
  {
   "cell_type": "code",
   "execution_count": 71,
   "metadata": {},
   "outputs": [
    {
     "data": {
      "text/plain": [
       "{'max_depth': 3,\n",
       " 'max_features': 'auto',\n",
       " 'min_samples_leaf': 0.1,\n",
       " 'min_samples_split': 0.1,\n",
       " 'n_estimators': 90}"
      ]
     },
     "execution_count": 71,
     "metadata": {},
     "output_type": "execute_result"
    }
   ],
   "source": [
    "grid_search.best_params_"
   ]
  },
  {
   "cell_type": "code",
   "execution_count": 72,
   "metadata": {},
   "outputs": [
    {
     "data": {
      "text/plain": [
       "0.68125"
      ]
     },
     "execution_count": 72,
     "metadata": {},
     "output_type": "execute_result"
    }
   ],
   "source": [
    "rand_clf_best = RandomForestClassifier(max_depth = 3,\n",
    "min_samples_leaf = 0.1,\n",
    "min_samples_split= 0.1,\n",
    "n_estimators = 90, random_state=4)\n",
    "rand_clf_best.fit(x_train,y_train)\n",
    "rand_clf.score(x_test,y_test)"
   ]
  },
  {
   "cell_type": "code",
   "execution_count": 73,
   "metadata": {},
   "outputs": [],
   "source": [
    "import pickle\n",
    "\n",
    "with open('finalized_model_Random_Forest.pickle', 'wb') as f:\n",
    "    pickle.dump(rand_clf_best,f)"
   ]
  },
  {
   "cell_type": "code",
   "execution_count": null,
   "metadata": {},
   "outputs": [],
   "source": []
  }
 ],
 "metadata": {
  "kernelspec": {
   "display_name": "Python 3",
   "language": "python",
   "name": "python3"
  },
  "language_info": {
   "codemirror_mode": {
    "name": "ipython",
    "version": 3
   },
   "file_extension": ".py",
   "mimetype": "text/x-python",
   "name": "python",
   "nbconvert_exporter": "python",
   "pygments_lexer": "ipython3",
   "version": "3.7.6"
  }
 },
 "nbformat": 4,
 "nbformat_minor": 4
}
